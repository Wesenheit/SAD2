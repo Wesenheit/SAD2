{
 "cells": [
  {
   "cell_type": "code",
   "execution_count": 1,
   "metadata": {
    "id": "dKTKOJCxqgUO"
   },
   "outputs": [],
   "source": [
    "# imports\n",
    "import numpy as np\n",
    "import matplotlib.pyplot as plt\n",
    "import seaborn as sns\n",
    "\n",
    "try:\n",
    "  import pyro \n",
    "except ModuleNotFoundError:\n",
    "  !pip install pyro-ppl\n",
    "  import pyro\n"
   ]
  },
  {
   "cell_type": "markdown",
   "metadata": {
    "id": "au8A6Jmh5BKy"
   },
   "source": [
    "# Tensors and PyTorch\n",
    "\n",
    "Source: https://uvadlc-notebooks.readthedocs.io/en/latest/tutorial_notebooks/tutorial2/Introduction_to_PyTorch.html"
   ]
  },
  {
   "cell_type": "markdown",
   "metadata": {
    "id": "jipFhODL6UzA"
   },
   "source": [
    "## Basics"
   ]
  },
  {
   "cell_type": "markdown",
   "metadata": {
    "id": "tAaaJ30a5a-O"
   },
   "source": [
    "We will start with reviewing the basic concepts of PyTorch. As a prerequisite, we recommend to be familiar with the *numpy* package as most machine learning frameworks are based on very similar concepts. If you are not familiar with *numpy* yet, don't worry: here is a tutorial to go through. If you are familiar though, you might want to skip this.\n",
    "\n",
    "Let's start with importing PyTorch. The package is called torch, based on its original framework Torch. As a first step, we can check its version:"
   ]
  },
  {
   "cell_type": "code",
   "execution_count": 2,
   "metadata": {
    "id": "MuxTGyp65FGa"
   },
   "outputs": [
    {
     "name": "stdout",
     "output_type": "stream",
     "text": [
      "Using torch 1.12.1+cu102\n"
     ]
    }
   ],
   "source": [
    "import torch\n",
    "\n",
    "print(\"Using torch\", torch.__version__)"
   ]
  },
  {
   "cell_type": "markdown",
   "metadata": {
    "id": "kenLf3Q55UYH"
   },
   "source": [
    "As in every machine learning framework, PyTorch provides functions that are stochastic like generating random numbers. However, a very good practice is to setup your code to be reproducible with the exact same random numbers. This is why we set a seed below. As everyone knows, 42 is the best seed. "
   ]
  },
  {
   "cell_type": "code",
   "execution_count": 3,
   "metadata": {
    "id": "jN4YeYK85O92"
   },
   "outputs": [
    {
     "data": {
      "text/plain": [
       "<torch._C.Generator at 0x7fd2d88ef8f0>"
      ]
     },
     "execution_count": 3,
     "metadata": {},
     "output_type": "execute_result"
    }
   ],
   "source": [
    "torch.manual_seed(42) # Setting the seed"
   ]
  },
  {
   "cell_type": "markdown",
   "metadata": {
    "id": "UtMeAk5f6aIw"
   },
   "source": [
    "## Tensors"
   ]
  },
  {
   "cell_type": "markdown",
   "metadata": {
    "id": "tjiKlKtK5kMO"
   },
   "source": [
    "Let’s first start by looking at different ways of creating a tensor. There are many possible options, the simplest one is to call torch.Tensor passing the desired shape as input argument:"
   ]
  },
  {
   "cell_type": "code",
   "execution_count": 4,
   "metadata": {
    "id": "13JCypzX5rb7"
   },
   "outputs": [
    {
     "name": "stdout",
     "output_type": "stream",
     "text": [
      "tensor([[[ 1.4578e+19,  4.5855e-41, -2.0052e-35,  4.5853e-41],\n",
      "         [ 1.4881e+19,  4.5855e-41, -2.0052e-35,  4.5853e-41],\n",
      "         [ 1.4705e+19,  4.5855e-41,  1.1015e+18,  4.5855e-41]],\n",
      "\n",
      "        [[-2.0090e-35,  4.5853e-41,  1.4710e+19,  4.5855e-41],\n",
      "         [ 1.5098e+19,  4.5855e-41,  1.2796e+19,  4.5855e-41],\n",
      "         [ 1.2795e+19,  4.5855e-41,  1.3127e+19,  4.5855e-41]]])\n"
     ]
    }
   ],
   "source": [
    "x = torch.Tensor(2, 3, 4)\n",
    "print(x)"
   ]
  },
  {
   "cell_type": "markdown",
   "metadata": {
    "id": "au3FWPn85zhN"
   },
   "source": [
    "The function `torch.Tensor` allocates memory for the desired tensor, but reuses any values that have already been in the memory. To directly assign values to the tensor during initialization, there are many alternatives including:\n",
    "\n",
    "* `torch.zeros`: Creates a tensor filled with zeros\n",
    "* `torch.ones`: Creates a tensor filled with ones\n",
    "* `torch.rand`: Creates a tensor with random values uniformly sampled between 0 and 1\n",
    "* `torch.randn`: Creates a tensor with random values sampled from a normal distribution with mean 0 and variance 1\n",
    "* `torch.arange`: Creates a tensor containing the values $N,N+1,N+2,...,M$\n",
    "* `torch.Tensor` (input list): Creates a tensor from the list elements you provide"
   ]
  },
  {
   "cell_type": "code",
   "execution_count": 5,
   "metadata": {
    "id": "puiZq2LR5xaG"
   },
   "outputs": [
    {
     "name": "stdout",
     "output_type": "stream",
     "text": [
      "tensor([[1., 2.],\n",
      "        [3., 4.]])\n"
     ]
    }
   ],
   "source": [
    "# Create a tensor from a (nested) list\n",
    "x = torch.Tensor([[1, 2], [3, 4]])\n",
    "print(x)"
   ]
  },
  {
   "cell_type": "code",
   "execution_count": 6,
   "metadata": {
    "id": "dBTpJxZQ52kX"
   },
   "outputs": [
    {
     "name": "stdout",
     "output_type": "stream",
     "text": [
      "tensor([[[0.8823, 0.9150, 0.3829, 0.9593],\n",
      "         [0.3904, 0.6009, 0.2566, 0.7936],\n",
      "         [0.9408, 0.1332, 0.9346, 0.5936]],\n",
      "\n",
      "        [[0.8694, 0.5677, 0.7411, 0.4294],\n",
      "         [0.8854, 0.5739, 0.2666, 0.6274],\n",
      "         [0.2696, 0.4414, 0.2969, 0.8317]]])\n"
     ]
    }
   ],
   "source": [
    "# Create a tensor with random values between 0 and 1 with the shape [2, 3, 4]\n",
    "x = torch.rand(2, 3, 4)\n",
    "print(x)"
   ]
  },
  {
   "cell_type": "markdown",
   "metadata": {
    "id": "LKgVwjKJ55Vt"
   },
   "source": [
    "You can obtain the shape of a tensor in the same way as in numpy (x.shape), or using the .size method:\n",
    "\n"
   ]
  },
  {
   "cell_type": "code",
   "execution_count": 7,
   "metadata": {
    "id": "aDtIG6AX558M"
   },
   "outputs": [
    {
     "name": "stdout",
     "output_type": "stream",
     "text": [
      "Shape: torch.Size([2, 3, 4])\n",
      "Size: torch.Size([2, 3, 4])\n",
      "Size: 2 3 4\n"
     ]
    }
   ],
   "source": [
    "shape = x.shape\n",
    "print(\"Shape:\", x.shape)\n",
    "\n",
    "size = x.size()\n",
    "print(\"Size:\", size)\n",
    "\n",
    "dim1, dim2, dim3 = x.size()\n",
    "print(\"Size:\", dim1, dim2, dim3)"
   ]
  },
  {
   "cell_type": "markdown",
   "metadata": {
    "id": "JrN2UZAb6haX"
   },
   "source": [
    "## Tensors and NumPy"
   ]
  },
  {
   "cell_type": "markdown",
   "metadata": {
    "id": "S0dGF9-Z57-b"
   },
   "source": [
    "Tensors can be converted to numpy arrays, and numpy arrays back to tensors. To transform a numpy array into a tensor, we can use the function torch.from_numpy:"
   ]
  },
  {
   "cell_type": "code",
   "execution_count": null,
   "metadata": {
    "id": "TodvhshX5-AJ"
   },
   "outputs": [],
   "source": [
    "np_arr = np.array([[1, 2], [3, 4]])\n",
    "tensor = torch.from_numpy(np_arr)\n",
    "\n",
    "print(\"Numpy array:\", np_arr)\n",
    "print(\"PyTorch tensor:\", tensor)"
   ]
  },
  {
   "cell_type": "markdown",
   "metadata": {
    "id": "nkAc9l1s6AVu"
   },
   "source": [
    "To transform a PyTorch tensor back to a numpy array, we can use the function .numpy() on tensors:"
   ]
  },
  {
   "cell_type": "code",
   "execution_count": null,
   "metadata": {
    "id": "sD0D4aBD6CYc"
   },
   "outputs": [],
   "source": [
    "tensor = torch.arange(4)\n",
    "np_arr = tensor.numpy()\n",
    "\n",
    "print(\"PyTorch tensor:\", tensor)\n",
    "print(\"Numpy array:\", np_arr)"
   ]
  },
  {
   "cell_type": "markdown",
   "metadata": {
    "id": "u6mugSmG6EbY"
   },
   "source": [
    "The conversion of tensors to numpy require the tensor to be on the CPU, and not the GPU (more on GPU support in a later section). In case you have a tensor on GPU, you need to call `.cpu()` on the tensor beforehand. Hence, you get a line like `np_arr = tensor.cpu().numpy()`."
   ]
  },
  {
   "cell_type": "markdown",
   "metadata": {
    "id": "SnXURBoc6rF7"
   },
   "source": [
    "## Operations\n",
    "\n",
    "Most operations that exist in numpy, also exist in PyTorch. A full list of operations can be found in the [PyTorch documentation](https://pytorch.org/docs/stable/tensors.html#), but we will review the most important ones here.\n",
    "\n",
    "The simplest operation is to add two tensors:"
   ]
  },
  {
   "cell_type": "code",
   "execution_count": null,
   "metadata": {
    "id": "9WJU5nd06s8_"
   },
   "outputs": [],
   "source": [
    "x1 = torch.rand(2, 3)\n",
    "x2 = torch.rand(2, 3)\n",
    "y = x1 + x2\n",
    "\n",
    "print(\"X1\", x1)\n",
    "print(\"X2\", x2)\n",
    "print(\"Y\", y)"
   ]
  },
  {
   "cell_type": "markdown",
   "metadata": {
    "id": "lneStW7N6vXv"
   },
   "source": [
    "Calling `x1 + x2` creates a new tensor containing the sum of the two inputs. However, we can also use in-place operations that are applied directly on the memory of a tensor. We therefore change the values of `x2` without the chance to re-accessing the values of `x2` before the operation. An example is shown below:"
   ]
  },
  {
   "cell_type": "code",
   "execution_count": null,
   "metadata": {
    "id": "b1IhhW8-6v5a"
   },
   "outputs": [],
   "source": [
    "x1 = torch.rand(2, 3)\n",
    "x2 = torch.rand(2, 3)\n",
    "print(\"X1 (before)\", x1)\n",
    "print(\"X2 (before)\", x2)\n",
    "\n",
    "x2.add_(x1)\n",
    "print(\"X1 (after)\", x1)\n",
    "print(\"X2 (after)\", x2)"
   ]
  },
  {
   "cell_type": "markdown",
   "metadata": {
    "id": "8DsRGAf66xPK"
   },
   "source": [
    "In-place operations are usually marked with a underscore postfix (e.g. \"add_\" instead of \"add\").\n",
    "\n",
    "Another common operation aims at changing the shape of a tensor. A tensor of size (2,3) can be re-organized to any other shape with the same number of elements (e.g. a tensor of size (6), or (3,2), ...). In PyTorch, this operation is called `view`:"
   ]
  },
  {
   "cell_type": "code",
   "execution_count": null,
   "metadata": {
    "id": "UNSy13w36zlL"
   },
   "outputs": [],
   "source": [
    "x = x1.view(2, 3)\n",
    "print(\"X\", x)"
   ]
  },
  {
   "cell_type": "markdown",
   "metadata": {
    "id": "Ap1COXF366up"
   },
   "source": [
    "Other commonly used operations include matrix multiplications, which are essential for neural networks. Quite often, we have an input vector $\\mathbf{x}$, which is transformed using a learned weight matrix $\\mathbf{W}$. There are multiple ways and functions to perform matrix multiplication, some of which we list below:\n",
    "\n",
    "* `torch.matmul`: Performs the matrix product over two tensors, where the specific behavior depends on the dimensions. If both inputs are matrices (2-dimensional tensors), it performs the standard matrix product. For higher dimensional inputs, the function supports broadcasting (for details see the [documentation](https://pytorch.org/docs/stable/generated/torch.matmul.html?highlight=matmul#torch.matmul)). Can also be written as `a @ b`, similar to numpy. \n",
    "* `torch.mm`: Performs the matrix product over two matrices, but doesn't support broadcasting (see [documentation](https://pytorch.org/docs/stable/generated/torch.mm.html?highlight=torch%20mm#torch.mm))\n",
    "* `torch.bmm`: Performs the matrix product with a support batch dimension. If the first tensor $T$ is of shape ($b\\times n\\times m$), and the second tensor $R$ ($b\\times m\\times p$), the output $O$ is of shape ($b\\times n\\times p$), and has been calculated by performing $b$ matrix multiplications of the submatrices of $T$ and $R$: $O_i = T_i @ R_i$\n",
    "* `torch.einsum`: Performs matrix multiplications and more (i.e. sums of products) using the Einstein summation convention. Explanation of the Einstein sum can be found in assignment 1.\n",
    "\n",
    "Usually, we use `torch.matmul` or `torch.bmm`. We can try a matrix multiplication with `torch.matmul` below."
   ]
  },
  {
   "cell_type": "markdown",
   "metadata": {
    "id": "l1AByjJr7DAr"
   },
   "source": [
    "## Indexing\n",
    "\n",
    "We often have the situation where we need to select a part of a tensor. Indexing works just like in numpy, so let's try it:"
   ]
  },
  {
   "cell_type": "code",
   "execution_count": null,
   "metadata": {
    "id": "opxMGzd76R_j"
   },
   "outputs": [],
   "source": [
    "x = torch.arange(12).view(3, 4)\n",
    "print(\"X\", x)"
   ]
  },
  {
   "cell_type": "code",
   "execution_count": null,
   "metadata": {
    "id": "B6fMmONV6Sfu"
   },
   "outputs": [],
   "source": [
    "print(x[:, 1])   # Second column"
   ]
  },
  {
   "cell_type": "code",
   "execution_count": null,
   "metadata": {
    "id": "Km1uW31D7Hxu"
   },
   "outputs": [],
   "source": [
    "print(x[0])      # First row"
   ]
  },
  {
   "cell_type": "code",
   "execution_count": null,
   "metadata": {
    "id": "8IlM7GNz7I_h"
   },
   "outputs": [],
   "source": [
    "print(x[:2, -1]) # First two rows, last column"
   ]
  },
  {
   "cell_type": "code",
   "execution_count": null,
   "metadata": {
    "id": "TpBoQFWS7KQ5"
   },
   "outputs": [],
   "source": [
    "print(x[1:3, :]) # Middle two rows"
   ]
  },
  {
   "cell_type": "markdown",
   "metadata": {
    "id": "HI0xe3P-7QfC"
   },
   "source": [
    "# PyTorch Distributions\n",
    "\n",
    "Source: https://pytorch.org/docs/stable/distributions.html\n",
    "\n",
    "The distributions package contains parameterizable probability distributions and sampling functions. This allows the construction of stochastic computation graphs and stochastic gradient estimators for optimization. This package generally follows the design of the TensorFlow Distributions package.\n",
    "\n",
    "During this course we will require that the various probability distributions\n",
    "that will stand for our models have the following properties (generally satisfied by the distributions available in Pyro and PyTorch Distributions):\n",
    "\n",
    " - we can efficiently sample from each \n",
    "\n",
    " - we can efficiently compute the pointwise probability density\n",
    "\n",
    " - is differentiable w.r.t. the parameters \n",
    "\n",
    "During the course we will use a lot of probabilistic models, so it is extremely useful to know some tools to make our job easier. \n",
    "\n",
    "Note that during next Lab we will learn about Pyro (source: http://pyro.ai/examples/intro_long.html) which builds upon torch distributions. "
   ]
  },
  {
   "cell_type": "markdown",
   "metadata": {
    "id": "s9d8bCMD8tH4"
   },
   "source": [
    "## Exercise 1 Multivariate Normal\n",
    "\n",
    "a) import `torch` and print the version you are using\n",
    "\n",
    "b) define a seed\n",
    "\n",
    "c) define a multivariate normal distribution with $\\mu = [1, 2]$ and $\\Sigma = \\begin{bmatrix} 1 & 0 \\\\ 0 & 2\\end{bmatrix}$\n",
    "\n",
    "d) sample $n = 100$ i.i.d. observations from it\n",
    "\n",
    "e) Compute the probability and log-probability of the sample obtained in d) under the distribution obtained in c). \n",
    "\n",
    "f) Explain **why do we want to work with log-probs?** How is e) connected to the likelihood? What is the difference?"
   ]
  },
  {
   "cell_type": "code",
   "execution_count": 13,
   "metadata": {
    "id": "SBN6-iAl-7sP"
   },
   "outputs": [],
   "source": [
    "import torch\n",
    "import torch.distributions as td\n",
    "torch.manual_seed(42)\n",
    "mean=torch.Tensor([1,2])\n",
    "cov=torch.Tensor([[1,0],[0,2]])"
   ]
  },
  {
   "cell_type": "code",
   "execution_count": 19,
   "metadata": {},
   "outputs": [],
   "source": [
    "ob=td.MultivariateNormal(mean,cov)\n",
    "observed=ob.sample_n(100)\n",
    "log_probs=ob.log_prob(observed)"
   ]
  },
  {
   "cell_type": "code",
   "execution_count": 24,
   "metadata": {},
   "outputs": [
    {
     "name": "stdout",
     "output_type": "stream",
     "text": [
      "vector:tensor([1.3618, 4.8275]), log prob: -4.2486066818237305\n",
      "vector:tensor([1.6630, 2.9966]), log prob: -2.652564287185669\n",
      "vector:tensor([0.9955, 4.3572]), log prob: -3.573559522628784\n",
      "vector:tensor([1.1539, 0.5006]), log prob: -2.75836443901062\n",
      "vector:tensor([1.5071, 2.1161]), log prob: -2.3163933753967285\n",
      "vector:tensor([1.4440, 0.9761]), log prob: -2.5451202392578125\n",
      "vector:tensor([0.9280, 0.7186]), log prob: -2.5975453853607178\n",
      "vector:tensor([-1.0487,  0.4712]), log prob: -4.867401599884033\n",
      "vector:tensor([0.0173, 2.4268]), log prob: -2.7128403186798096\n",
      "vector:tensor([1.1787, 1.8171]), log prob: -2.2087764739990234\n",
      "vector:tensor([0.0709, 2.3906]), log prob: -2.654232978820801\n",
      "vector:tensor([0.4611, 2.6542]), log prob: -2.4366350173950195\n",
      "vector:tensor([1.6333, 2.5728]), log prob: -2.4670088291168213\n",
      "vector:tensor([1.3416, 1.6870]), log prob: -2.267292022705078\n",
      "vector:tensor([2.2554, 0.9889]), log prob: -3.2280890941619873\n",
      "vector:tensor([1.8539, 2.7255]), log prob: -2.680619716644287\n",
      "vector:tensor([1.6427, 2.8121]), log prob: -2.5558557510375977\n",
      "vector:tensor([1.5867, 1.9733]), log prob: -2.356750726699829\n",
      "vector:tensor([0.3145, 2.7970]), log prob: -2.5781924724578857\n",
      "vector:tensor([-0.5072, -0.2778]), log prob: -4.617361545562744\n",
      "vector:tensor([0.1949, 2.7294]), log prob: -2.6416032314300537\n",
      "vector:tensor([0.2871, 2.3106]), log prob: -2.4626684188842773\n",
      "vector:tensor([-0.5988,  1.8457]), log prob: -3.4684340953826904\n",
      "vector:tensor([1.7152, 2.0554]), log prob: -2.440971612930298\n",
      "vector:tensor([1.8351, 1.5535]), log prob: -2.582975149154663\n",
      "vector:tensor([1.2691, 2.1208]), log prob: -2.224306344985962\n",
      "vector:tensor([-0.3793,  2.8850]), log prob: -3.3315024375915527\n",
      "vector:tensor([-1.5850,  1.9661]), log prob: -5.525722026824951\n",
      "vector:tensor([1.5239, 1.6191]), log prob: -2.357982873916626\n",
      "vector:tensor([-0.6191,  2.0018]), log prob: -3.495129346847534\n",
      "vector:tensor([2.1930, 4.7397]), log prob: -4.772603511810303\n",
      "vector:tensor([1.7287, 3.3872]), log prob: -2.9310386180877686\n",
      "vector:tensor([1.7987, 3.2876]), log prob: -2.9178526401519775\n",
      "vector:tensor([0.9120, 2.4766]), log prob: -2.245108127593994\n",
      "vector:tensor([1.9733, 0.5645]), log prob: -3.1732935905456543\n",
      "vector:tensor([0.4581, 1.3763]), log prob: -2.428539514541626\n",
      "vector:tensor([1.2510, 2.1089]), log prob: -2.2189226150512695\n",
      "vector:tensor([0.7937, 5.0685]), log prob: -4.559723854064941\n",
      "vector:tensor([3.0207, 2.3591]), log prob: -4.258389949798584\n",
      "vector:tensor([1.9364, 3.0073]), log prob: -2.876549482345581\n",
      "vector:tensor([0.4428, 0.6306]), log prob: -2.808527946472168\n",
      "vector:tensor([1.8713, 1.8647]), log prob: -2.5685880184173584\n",
      "vector:tensor([1.4038, 0.9903]), log prob: -2.5208616256713867\n",
      "vector:tensor([1.8337, 0.6444]), log prob: -2.9914071559906006\n",
      "vector:tensor([2.0682, 1.6426]), log prob: -2.786961793899536\n",
      "vector:tensor([0.8118, 0.9094]), log prob: -2.4994900226593018\n",
      "vector:tensor([ 1.1799, -1.0077]), log prob: -4.462189197540283\n",
      "vector:tensor([0.8659, 0.5281]), log prob: -2.735039234161377\n",
      "vector:tensor([1.7694, 5.6167]), log prob: -5.750635623931885\n",
      "vector:tensor([1.5716, 3.9227]), log prob: -3.272024393081665\n",
      "vector:tensor([1.4334, 0.9857]), log prob: -2.5355660915374756\n",
      "vector:tensor([ 2.0554, -0.0554]), log prob: -3.7975339889526367\n",
      "vector:tensor([2.7361, 4.5951]), log prob: -5.3752055168151855\n",
      "vector:tensor([1.8800, 2.0793]), log prob: -2.5732367038726807\n",
      "vector:tensor([1.3782, 2.9972]), log prob: -2.5045530796051025\n",
      "vector:tensor([-0.7237,  0.8071]), log prob: -4.025746822357178\n",
      "vector:tensor([0.5138, 1.5248]), log prob: -2.359088182449341\n",
      "vector:tensor([1.0367, 2.6978]), log prob: -2.3068478107452393\n",
      "vector:tensor([1.8854, 2.2580]), log prob: -2.593043088912964\n",
      "vector:tensor([1.7864, 1.9181]), log prob: -2.4953255653381348\n",
      "vector:tensor([1.1364, 2.4367]), log prob: -2.2414281368255615\n",
      "vector:tensor([2.6617, 2.2477]), log prob: -3.5803678035736084\n",
      "vector:tensor([1.6084, 4.3064]), log prob: -3.6993958950042725\n",
      "vector:tensor([0.9153, 3.5336]), log prob: -2.776014804840088\n",
      "vector:tensor([1.1954, 0.1120]), log prob: -3.094705581665039\n",
      "vector:tensor([1.3945, 4.4127]), log prob: -3.717566967010498\n",
      "vector:tensor([0.2061, 2.5307]), log prob: -2.5700230598449707\n",
      "vector:tensor([1.0879, 0.2443]), log prob: -2.9589552879333496\n",
      "vector:tensor([0.4337, 2.5642]), log prob: -2.424344062805176\n",
      "vector:tensor([2.3695, 1.6438]), log prob: -3.15392804145813\n",
      "vector:tensor([2.9003, 4.3972]), log prob: -5.426692485809326\n",
      "vector:tensor([1.0281, 1.7520]), log prob: -2.2002222537994385\n",
      "vector:tensor([1.4085, 0.2168]), log prob: -3.062882900238037\n",
      "vector:tensor([1.9165, 1.9604]), log prob: -2.6048429012298584\n",
      "vector:tensor([0.7816, 2.2352]), log prob: -2.222137212753296\n",
      "vector:tensor([3.1442, 4.4106]), log prob: -5.935953617095947\n",
      "vector:tensor([2.5460, 2.7704]), log prob: -3.527951955795288\n",
      "vector:tensor([1.9935, 2.7165]), log prob: -2.8062899112701416\n",
      "vector:tensor([0.8603, 0.3302]), log prob: -2.8912923336029053\n",
      "vector:tensor([-0.2829,  2.6343]), log prob: -3.1079745292663574\n",
      "vector:tensor([1.4903, 1.3813]), log prob: -2.40032958984375\n",
      "vector:tensor([-0.2201,  1.1721]), log prob: -3.100141763687134\n",
      "vector:tensor([1.6664, 1.8950]), log prob: -2.4092352390289307\n",
      "vector:tensor([0.7904, 2.2352]), log prob: -2.2202489376068115\n",
      "vector:tensor([-0.8316,  2.5049]), log prob: -3.925604820251465\n",
      "vector:tensor([1.9143, 5.0946]), log prob: -4.996601581573486\n",
      "vector:tensor([ 0.0148, -1.5192]), log prob: -5.765927791595459\n",
      "vector:tensor([0.6687, 3.1930]), log prob: -2.5951502323150635\n",
      "vector:tensor([0.6818, 3.7189]), log prob: -2.973717212677002\n",
      "vector:tensor([2.4200, 1.9227]), log prob: -3.1940994262695312\n",
      "vector:tensor([1.0247, 0.4951]), log prob: -2.750962018966675\n",
      "vector:tensor([0.2398, 1.4237]), log prob: -2.5564281940460205\n",
      "vector:tensor([0.5298, 1.1392]), log prob: -2.4802279472351074\n",
      "vector:tensor([ 0.9538, -0.3274]), log prob: -3.5397469997406006\n",
      "vector:tensor([0.3040, 2.3336]), log prob: -2.4544968605041504\n",
      "vector:tensor([1.8281, 2.1562]), log prob: -2.5334126949310303\n",
      "vector:tensor([2.0348, 1.1141]), log prob: -2.916086435317993\n",
      "vector:tensor([0.4849, 2.9762]), log prob: -2.555360794067383\n",
      "vector:tensor([3.0403, 0.1644]), log prob: -5.108174800872803\n",
      "vector:tensor([1.6161, 1.6453]), log prob: -2.4056825637817383\n"
     ]
    }
   ],
   "source": [
    "for i in range(len(observed)):\n",
    "    print(\"vector:{}, log prob: {}\".format(observed[i],log_probs[i]))"
   ]
  },
  {
   "cell_type": "markdown",
   "metadata": {
    "id": "wXft6LjWxJ4g"
   },
   "source": [
    "Generally, shapes of distributions may be confusing. A perfect guide to make your life easier: https://bochang.me/blog/posts/pytorch-distributions/\n",
    "\n",
    "Additionally: https://stats.stackexchange.com/questions/2641/what-is-the-difference-between-likelihood-and-probability"
   ]
  },
  {
   "cell_type": "markdown",
   "metadata": {
    "id": "-atuH-ctEtDS"
   },
   "source": [
    "# Likelihoods\n",
    "\n",
    "Likelihood function is a function of parameters $\\theta \\in \\Theta$ given by $p(D \\mid \\theta)$. \n",
    "\n",
    "> Intuition: The likelihood expresses how probable the observed data set is for different settings of the parameter $\\theta$. "
   ]
  },
  {
   "cell_type": "markdown",
   "metadata": {
    "id": "-iVEpFdUpROV"
   },
   "source": [
    "\n",
    "## Exercise 2 Likelihood of Bernoulli\n",
    "\n",
    "> Give an analytical formula for the likelihood function of Bernoulli distribution. Calculate the MLE. "
   ]
  },
  {
   "cell_type": "markdown",
   "metadata": {
    "id": "RTowl6VSAAZB"
   },
   "source": [
    "## Exercise 3: Coin Tossing\n",
    "\n",
    "a) Set $n$ to 1000\n",
    "\n",
    "b) Simulate $n$ fair coin tosses\n",
    "\n",
    "c) Simulate $n$ unfair coin tosses, with a probability of heads equal to $\\theta = 0.75$\n",
    "\n",
    "d) Compute the number of heads\n",
    "\n",
    "e) Compute the mean of your *data*\n",
    "\n",
    "\n",
    "f) Plot the likelihood function for the data from Exercise 2 as a function of parameter. \n",
    "\n",
    "g) Mark the maximum likelihood estimate of this likelihood on the plot.\n"
   ]
  },
  {
   "cell_type": "markdown",
   "metadata": {
    "id": "gqcIa3QUNta6"
   },
   "source": [
    "#### Solution"
   ]
  },
  {
   "cell_type": "code",
   "execution_count": 75,
   "metadata": {
    "id": "iT5zhJrKEuc6"
   },
   "outputs": [
    {
     "data": {
      "text/plain": [
       "<matplotlib.collections.LineCollection at 0x7fd27661fa60>"
      ]
     },
     "execution_count": 75,
     "metadata": {},
     "output_type": "execute_result"
    },
    {
     "data": {
      "image/png": "[encoded data removed]",
      "text/plain": [
       "<Figure size 640x480 with 1 Axes>"
      ]
     },
     "metadata": {},
     "output_type": "display_data"
    }
   ],
   "source": [
    "n=2\n",
    "bernouli=td.Bernoulli(0.75)\n",
    "bernouli_b=td.Bernoulli(0.75)\n",
    "samples=bernouli.sample((n,))\n",
    "samples_b=bernouli_b.sample((n,))\n",
    "data=torch.cat([samples,samples_b],0)\n",
    "l=torch.linspace(0,1,100)\n",
    "log_prob=torch.zeros(100)\n",
    "for i in range(100):\n",
    "    log_prob[i]=torch.sum(td.Bernoulli(l[i]).log_prob(data))\n",
    "plt.plot(l,log_prob)\n",
    "max_l=torch.sum(data)/(2*n)\n",
    "plt.vlines(max_l,min(log_prob),max(log_prob))\n"
   ]
  },
  {
   "cell_type": "markdown",
   "metadata": {
    "id": "a-y_gVgip7aO"
   },
   "source": [
    "## Exercise 4: Prior, posterior and coin tossing (part 2)\n",
    "\n",
    "\n",
    "a) Add a plot the Beta distribution (prior for the binomial distribution) with parameters α = β = 3. What does this prior imply?\n",
    "\n",
    "b) Add a plot of the empirically calculated posterior distribution, computed as likelihood * prior (ignoring the normalization by the probability of the data)\n",
    "\n",
    "c) Add a plot of the theoretical posterior (reminder: Beta is conjugate to Binomial)\n",
    "\n",
    "d) Add a vertical line at the value maximizing the posterior and a legend"
   ]
  },
  {
   "cell_type": "code",
   "execution_count": 76,
   "metadata": {
    "id": "ww6x3keRcvVc"
   },
   "outputs": [
    {
     "data": {
      "text/plain": [
       "[<matplotlib.lines.Line2D at 0x7fd27668a2f0>]"
      ]
     },
     "execution_count": 76,
     "metadata": {},
     "output_type": "execute_result"
    },
    {
     "data": {
      "image/png": "[encoded data removed]",
      "text/plain": [
       "<Figure size 640x480 with 1 Axes>"
      ]
     },
     "metadata": {},
     "output_type": "display_data"
    }
   ],
   "source": [
    "beta=td.Beta(3,3)\n",
    "t=torch.linspace(0,1,100)\n",
    "posterior=torch.linspace(0,1,100)\n",
    "plt.plot(t,torch.exp(beta.log_prob(t)),label=\"prior\")\n",
    "for i in range(100):\n",
    "    posterior[i]=torch.sum(td.Bernoulli(t[i]).log_prob(data))+beta.log_prob(t[i])\n",
    "plt.plot(t,np.exp(posterior))"
   ]
  },
  {
   "cell_type": "markdown",
   "metadata": {
    "id": "gMvKY50FeALQ"
   },
   "source": [
    "# Exercise 5 MLE and MAP\n",
    "\n",
    "Compute the difference between the two estimates for different as a function of the number of coin tosses $n$?\n",
    "\n",
    "What is happening? Why? Justify that the prior is often just a regularizer, by finding relevant examples.\n",
    "\n"
   ]
  },
  {
   "cell_type": "code",
   "execution_count": null,
   "metadata": {
    "id": "5z-uHq-oSFRY"
   },
   "outputs": [],
   "source": [
    "### YOUR SOLUTION ###"
   ]
  },
  {
   "cell_type": "markdown",
   "metadata": {
    "id": "vxTelXtqepcv"
   },
   "source": [
    "# Motivation for using Pyro\n",
    "\n",
    "Next week we will start using Pyro. A good introductory tutorial is provided [here](https://pyro.ai/examples/intro_long.html#Models-in-Pyro). Please cover the section Models in Pyro. \n",
    "\n",
    "Often, models we work with don't have an analytical form of the likelihood we want to maximize, no problem!"
   ]
  },
  {
   "cell_type": "code",
   "execution_count": null,
   "metadata": {
    "id": "U1w165gVdx9F"
   },
   "outputs": [],
   "source": [
    "# !pip3 install pyro-ppl \n",
    "import pyro\n",
    "from pyro.distributions import constraints\n",
    "\n",
    "def model_mle(data):\n",
    "    f = pyro.param(\"head_probs\", torch.tensor(0.5),\n",
    "                   constraint=constraints.unit_interval)\n",
    "    with pyro.plate(\"data\", data.size(0)):\n",
    "        pyro.sample(\"obs\", pyro.distributions.Bernoulli(f), obs=data)"
   ]
  },
  {
   "cell_type": "code",
   "execution_count": null,
   "metadata": {
    "collapsed": true,
    "id": "DfD6_TjSd1he"
   },
   "outputs": [],
   "source": [
    "#@title\n",
    "pyro.render_model(model_mle, model_args=(biased_coin_tosses,), render_distributions=True, render_params=True)"
   ]
  },
  {
   "cell_type": "code",
   "execution_count": null,
   "metadata": {
    "id": "uEIsOoArbgfc"
   },
   "outputs": [],
   "source": [
    "def train(model, guide, data, lr=0.005, n_steps=201):\n",
    "    pyro.clear_param_store()\n",
    "    adam_params = {\"lr\": lr}\n",
    "    adam = pyro.optim.Adam(adam_params)\n",
    "    svi = SVI(model, guide, adam, loss=Trace_ELBO())\n",
    "\n",
    "    for step in range(n_steps):\n",
    "        loss = svi.step(data)\n",
    "        if step % 50 == 0:\n",
    "            print('[iter {}]  loss: {:.4f}'.format(step, loss))\n",
    "\n",
    "\n",
    "def guide_mle(data):\n",
    "    pass\n",
    "\n"
   ]
  },
  {
   "cell_type": "code",
   "execution_count": null,
   "metadata": {
    "id": "9x411Te8uQ59"
   },
   "outputs": [],
   "source": [
    "# For biased coin toss\n",
    "train(model_mle, guide_mle, biased_coin_tosses)\n",
    "\n",
    "mle_estimate = pyro.param(\"head_probs\").item()\n",
    "print(\"Our MLE estimate of the probability of getting a head is {:.3f}\".format(mle_estimate))"
   ]
  },
  {
   "cell_type": "code",
   "execution_count": null,
   "metadata": {
    "id": "hJMZ9cRzuJRO"
   },
   "outputs": [],
   "source": [
    "#For fair coin toss\n",
    "train(model_mle, guide_mle, fair_coin_tosses)\n",
    "\n",
    "mle_estimate = pyro.param(\"head_probs\").item()\n",
    "print(\"Our MLE estimate of the probability of getting a head is {:.3f}\".format(mle_estimate))"
   ]
  }
 ],
 "metadata": {
  "colab": {
   "collapsed_sections": [
    "au8A6Jmh5BKy"
   ],
   "provenance": []
  },
  "kernelspec": {
   "display_name": "Python 3 (ipykernel)",
   "language": "python",
   "name": "python3"
  },
  "language_info": {
   "codemirror_mode": {
    "name": "ipython",
    "version": 3
   },
   "file_extension": ".py",
   "mimetype": "text/x-python",
   "name": "python",
   "nbconvert_exporter": "python",
   "pygments_lexer": "ipython3",
   "version": "3.10.6"
  }
 },
 "nbformat": 4,
 "nbformat_minor": 1
}
