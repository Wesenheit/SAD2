{
 "cells": [
  {
   "cell_type": "code",
   "execution_count": 1,
   "id": "5c3545c7",
   "metadata": {},
   "outputs": [
    {
     "name": "stderr",
     "output_type": "stream",
     "text": [
      "2023-01-04 15:05:32.832328: W external/org_tensorflow/tensorflow/tsl/platform/default/dso_loader.cc:66] Could not load dynamic library 'libcudart.so.11.0'; dlerror: libcudart.so.11.0: cannot open shared object file: No such file or directory; LD_LIBRARY_PATH: /usr/lib/x86_64-linux-gnu/:/opt/Zotero:/opt/AMD/aocc-compiler-4.0.0/bin:/opt/AMD/aocc-compiler-4.0.0/share/opt-viewer:/usr/local/texlive/2022/bin/x86_64-linux:/home/mitra/.local/bin:/home/mitra/.opam/default/bin:/home/mitra/.cargo/bin:/home/mitra/.local/bin:/usr/local/sbin:/usr/local/bin:/usr/sbin:/usr/bin:/sbin:/bin:/usr/games:/usr/local/games:/snap/bin:/snap/bin:/home/mitra/.local/share/coursier/bin:/usr/local/pgplot/\n",
      "2023-01-04 15:05:32.954845: W external/org_tensorflow/tensorflow/tsl/platform/default/dso_loader.cc:66] Could not load dynamic library 'libcudart.so.11.0'; dlerror: libcudart.so.11.0: cannot open shared object file: No such file or directory; LD_LIBRARY_PATH: /usr/lib/x86_64-linux-gnu/:/opt/Zotero:/opt/AMD/aocc-compiler-4.0.0/bin:/opt/AMD/aocc-compiler-4.0.0/share/opt-viewer:/usr/local/texlive/2022/bin/x86_64-linux:/home/mitra/.local/bin:/home/mitra/.opam/default/bin:/home/mitra/.cargo/bin:/home/mitra/.local/bin:/usr/local/sbin:/usr/local/bin:/usr/sbin:/usr/bin:/sbin:/bin:/usr/games:/usr/local/games:/snap/bin:/snap/bin:/home/mitra/.local/share/coursier/bin:/usr/local/pgplot/\n",
      "2023-01-04 15:05:32.956091: W external/org_tensorflow/tensorflow/tsl/platform/default/dso_loader.cc:66] Could not load dynamic library 'libcudart.so.11.0'; dlerror: libcudart.so.11.0: cannot open shared object file: No such file or directory; LD_LIBRARY_PATH: /usr/lib/x86_64-linux-gnu/:/opt/Zotero:/opt/AMD/aocc-compiler-4.0.0/bin:/opt/AMD/aocc-compiler-4.0.0/share/opt-viewer:/usr/local/texlive/2022/bin/x86_64-linux:/home/mitra/.local/bin:/home/mitra/.opam/default/bin:/home/mitra/.cargo/bin:/home/mitra/.local/bin:/usr/local/sbin:/usr/local/bin:/usr/sbin:/usr/bin:/sbin:/bin:/usr/games:/usr/local/games:/snap/bin:/snap/bin:/home/mitra/.local/share/coursier/bin:/usr/local/pgplot/\n",
      "/usr/lib/python3/dist-packages/pkg_resources/__init__.py:116: PkgResourcesDeprecationWarning: 0.1.43ubuntu1 is an invalid version and will not be supported in a future release\n",
      "  warnings.warn(\n",
      "/usr/lib/python3/dist-packages/pkg_resources/__init__.py:116: PkgResourcesDeprecationWarning: 1.1build1 is an invalid version and will not be supported in a future release\n",
      "  warnings.warn(\n"
     ]
    }
   ],
   "source": [
    "import jax.numpy as jnp\n",
    "from jax import random\n",
    "import pandas as pd\n",
    "from tqdm.notebook import tqdm\n",
    "import corner\n",
    "import numpyro\n",
    "from numpyro import distributions as dst\n",
    "from numpyro.infer import NUTS,MCMC,MixedHMC\n",
    "choco = pd.read_csv('chocolate.csv')\n",
    "import jax\n",
    "# Set the hyperparameters\n",
    "prior_n = 20\n",
    "prior_m = 0.9\n",
    "nu = 2\n",
    "mu = 4\n",
    "s = 1\n",
    "r = 0.1\n",
    "\n",
    "# Set the observed data\n",
    "N = len(choco) # number of tested chocolate bars\n",
    "X = choco['Rating'] >= 3 # number of tasty bars (maybe you can tweak it and set your expectations higher?)"
   ]
  },
  {
   "cell_type": "code",
   "execution_count": 2,
   "id": "454723c8",
   "metadata": {},
   "outputs": [],
   "source": [
    "def model(data,N,prior_n,prior_m,nu,mu,s,r):\n",
    "    p_n=numpyro.param(\"prior n\",prior_n)\n",
    "    p_m=numpyro.param(\"prior m\",prior_m)\n",
    "    nu=numpyro.param(\"nu\",nu)\n",
    "    mu=numpyro.param(\"mu\",mu)\n",
    "    s=numpyro.param(\"s\",s)\n",
    "    r=numpyro.param(\"r\",r)\n",
    "    m=numpyro.sample(\"m\",dst.Beta(mu,nu))\n",
    "    n=numpyro.sample(\"n\",dst.Gamma(s,r))\n",
    "    theta=numpyro.sample(\"theta\",dst.Beta(m*n,m*(n-1)))\n",
    "    with numpyro.plate(\"data\",N):\n",
    "        numpyro.sample(\"obs\",dst.Binomial(probs=theta),obs=data)\n",
    "    "
   ]
  },
  {
   "cell_type": "code",
   "execution_count": null,
   "id": "a1a36685",
   "metadata": {},
   "outputs": [],
   "source": [
    "rng_key = random.PRNGKey(0)\n",
    "rng_key, rng_key_ = random.split(rng_key)\n",
    "\n",
    "# Run NUTS.\n",
    "kernel = NUTS(model,step_size=0.1)\n",
    "num_samples = 35000\n",
    "mcmc = MCMC(kernel, num_warmup=5000, num_samples=num_samples)\n",
    "mcmc.run(\n",
    "    rng_key_, data=jnp.array(X),N=N,prior_m=prior_m,prior_n=prior_n,nu=nu,mu=mu,s=s,r=r\n",
    ")\n",
    "mcmc.print_summary()\n",
    "samples_1 = mcmc.get_samples()"
   ]
  },
  {
   "cell_type": "code",
   "execution_count": null,
   "id": "c6890979",
   "metadata": {},
   "outputs": [],
   "source": [
    "samples_1"
   ]
  },
  {
   "cell_type": "code",
   "execution_count": null,
   "id": "b8b073d6",
   "metadata": {},
   "outputs": [],
   "source": []
  },
  {
   "cell_type": "code",
   "execution_count": null,
   "id": "6db5bd28",
   "metadata": {},
   "outputs": [],
   "source": []
  },
  {
   "cell_type": "code",
   "execution_count": null,
   "id": "34a10c6b",
   "metadata": {},
   "outputs": [],
   "source": []
  }
 ],
 "metadata": {
  "kernelspec": {
   "display_name": "Python 3 (ipykernel)",
   "language": "python",
   "name": "python3"
  },
  "language_info": {
   "codemirror_mode": {
    "name": "ipython",
    "version": 3
   },
   "file_extension": ".py",
   "mimetype": "text/x-python",
   "name": "python",
   "nbconvert_exporter": "python",
   "pygments_lexer": "ipython3",
   "version": "3.10.6"
  }
 },
 "nbformat": 4,
 "nbformat_minor": 5
}
