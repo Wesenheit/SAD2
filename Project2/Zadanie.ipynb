{
 "cells": [
  {
   "cell_type": "code",
   "execution_count": 74,
   "id": "bc4e440f",
   "metadata": {},
   "outputs": [],
   "source": [
    "import seaborn as sns\n",
    "import numpy as np\n",
    "from typing import List, Tuple\n",
    "from tqdm import tqdm\n",
    "import pandas as pd"
   ]
  },
  {
   "cell_type": "code",
   "execution_count": 141,
   "id": "77448852",
   "metadata": {},
   "outputs": [],
   "source": [
    "class Node():\n",
    "    def __init__(self,name,value,probs,observed=False):\n",
    "        self.name=name\n",
    "        self.probs=probs\n",
    "        self.parents=()\n",
    "        self.children=()\n",
    "        self.val=value\n",
    "        self.observed=observed\n",
    "        \n",
    "    def add_parent(self,a):\n",
    "        self.parents=(*self.parents,a)  \n",
    "        \n",
    "    def add_child(self,a):\n",
    "        self.children=(*self.children,a)\n",
    "        \n",
    "    def __repr__(self):\n",
    "        return self.name\n",
    "    \n",
    "    def __call__(self):\n",
    "        if len(self.parents)==0:\n",
    "            return 0\n",
    "        values=list(map(lambda x:x.val,self.parents))\n",
    "        prob=self.probs\n",
    "        for val in values:\n",
    "            prob=prob[val]\n",
    "        if self.val:\n",
    "            return np.log(prob)\n",
    "        else:\n",
    "            return np.log(1-prob)\n",
    "\n",
    "class BN():\n",
    "    def __init__(self):\n",
    "        self.varibles=()\n",
    "        self.names=()\n",
    "    def add(self,node):\n",
    "        node.id=len(self.names)\n",
    "        self.varibles=(*self.varibles,node)\n",
    "        self.names=(*self.names,node.name)\n",
    "        return self\n",
    "    def add_edge(self,a,b):\n",
    "        object_1=self.varibles[self.names.index(a)]\n",
    "        object_2=self.varibles[self.names.index(b)]\n",
    "        object_1.add_child(object_2)\n",
    "        object_2.add_parent(object_1)\n",
    "        return self\n",
    "    def __repr__(self):\n",
    "        string=\"0\"\n",
    "        return string\n",
    "    \n",
    "    def markov_blancket(self,id):\n",
    "        object_id=self.varibles[id]\n",
    "        #blancket=[]\n",
    "        #blancket=[*blancket,*object_id.parents]\n",
    "        #blancket=[*blancket,*object_id.children]\n",
    "        #for object in object_id.children:\n",
    "        #    for parent in object.parents:\n",
    "        #        if parent not in blancket and parent is not object_id:\n",
    "        #            blancket.append(parent)\n",
    "        return (object_id,*object_id.parents,*object_id.children)\n",
    "    def propability(self,idd):\n",
    "        return sum(tuple(map(lambda x:x(),self.markov_blancket(idd))))\n",
    "        \n",
    "    def gather(self):\n",
    "        return np.array(list(map(lambda x:x.val,self.varibles)))\n",
    "    \n",
    "    def scatter(self,values):\n",
    "        for node,val in zip(self.varibles,values):\n",
    "            node.val=val\n",
    "            \n",
    "    def gibbs_sampling(self,num,num_burn=0,thin_out=1):\n",
    "        values_to_choose=[]\n",
    "        for i,node in enumerate(self.varibles):\n",
    "            if not node.observed:\n",
    "                values_to_choose.append(i)\n",
    "        for _ in tqdm(range(num_burn),\"burn in\"):\n",
    "            id=np.random.choice(values_to_choose)\n",
    "            self.varibles[id].val=0\n",
    "            prob_1=np.exp(self.propability(id))\n",
    "            self.varibles[id].val=1\n",
    "            prob_2=np.exp(self.propability(id))\n",
    "            self.varibles[id].val=np.random.choice([0,1],p=[prob_1/(prob_1+prob_2),prob_2/(prob_1+prob_2)])\n",
    "        values=np.zeros([0,len(values_to_choose)])\n",
    "        for i in tqdm(range(num),\"sampling\"):\n",
    "            id=np.random.choice(values_to_choose)\n",
    "            self.varibles[id].val=0\n",
    "            prob_1=np.exp(self.propability(id))\n",
    "            self.varibles[id].val=1\n",
    "            prob_2=np.exp(self.propability(id))\n",
    "            self.varibles[id].val=np.random.choice([0,1],p=[prob_1/(prob_1+prob_2),prob_2/(prob_1+prob_2)])\n",
    "            if i%thin_out==0:\n",
    "                values=np.concatenate((values,self.gather()[values_to_choose].reshape(1,len(values_to_choose))))\n",
    "        out=dict()\n",
    "        for i,id,value in zip(range(len(values_to_choose)),values_to_choose,values):\n",
    "            out[self.names[id]]=values[:,i]\n",
    "        return out"
   ]
  },
  {
   "cell_type": "code",
   "execution_count": 179,
   "id": "8b5a7aae",
   "metadata": {},
   "outputs": [
    {
     "name": "stdout",
     "output_type": "stream",
     "text": [
      "(rain, sprinkler, cloud, wet grass)\n"
     ]
    }
   ],
   "source": [
    "net=BN()\n",
    "rain=Node(\"rain\",0,[0.2,0.8],True)\n",
    "sprinkler=Node(\"sprinkler\",1,[0.5,0.1],True)\n",
    "cloud=Node(\"cloud\",1,None,False)\n",
    "grass=Node(\"wet grass\",1,np.array([[0.01,0.9],[0.9,0.99]]),True)\n",
    "net.add(rain).add(sprinkler).add(cloud).add(grass).add_edge(\"cloud\",\"sprinkler\").add_edge(\"cloud\",\"rain\").add_edge(\"rain\",\"wet grass\").add_edge(\"sprinkler\",\"wet grass\")\n",
    "print(net.varibles)"
   ]
  },
  {
   "cell_type": "code",
   "execution_count": 180,
   "id": "1081b136",
   "metadata": {},
   "outputs": [
    {
     "data": {
      "text/plain": [
       "0.17999999999999997"
      ]
     },
     "execution_count": 180,
     "metadata": {},
     "output_type": "execute_result"
    }
   ],
   "source": [
    "np.exp(net.propability(0))"
   ]
  },
  {
   "cell_type": "code",
   "execution_count": 181,
   "id": "245f317f",
   "metadata": {},
   "outputs": [
    {
     "data": {
      "text/plain": [
       "(rain, cloud, wet grass)"
      ]
     },
     "execution_count": 181,
     "metadata": {},
     "output_type": "execute_result"
    }
   ],
   "source": [
    "net.markov_blancket(0)"
   ]
  },
  {
   "cell_type": "code",
   "execution_count": 182,
   "id": "f235840b",
   "metadata": {},
   "outputs": [
    {
     "data": {
      "text/plain": [
       "0.018000000000000002"
      ]
     },
     "execution_count": 182,
     "metadata": {},
     "output_type": "execute_result"
    }
   ],
   "source": [
    "np.exp(rain())*np.exp(grass())*np.exp(sprinkler())"
   ]
  },
  {
   "cell_type": "code",
   "execution_count": 183,
   "id": "7e8da8f8",
   "metadata": {},
   "outputs": [
    {
     "data": {
      "text/plain": [
       "0.9"
      ]
     },
     "execution_count": 183,
     "metadata": {},
     "output_type": "execute_result"
    }
   ],
   "source": [
    "np.exp(grass())"
   ]
  },
  {
   "cell_type": "code",
   "execution_count": 184,
   "id": "6c09516b",
   "metadata": {},
   "outputs": [
    {
     "name": "stderr",
     "output_type": "stream",
     "text": [
      "burn in: 100%|██████████| 10000/10000 [00:00<00:00, 24421.18it/s]\n",
      "sampling: 100%|██████████| 100000/100000 [00:03<00:00, 25651.81it/s]\n"
     ]
    }
   ],
   "source": [
    "samples=net.gibbs_sampling(100000,10000,10)"
   ]
  },
  {
   "cell_type": "code",
   "execution_count": 78,
   "id": "428758fb",
   "metadata": {},
   "outputs": [
    {
     "data": {
      "text/plain": [
       "<seaborn.axisgrid.PairGrid at 0x7fc5c85da2c0>"
      ]
     },
     "execution_count": 78,
     "metadata": {},
     "output_type": "execute_result"
    },
    {
     "data": {
      "image/png": "[encoded data removed]",
      "text/plain": [
       "<Figure size 250x250 with 2 Axes>"
      ]
     },
     "metadata": {},
     "output_type": "display_data"
    }
   ],
   "source": [
    "sns.pairplot(pd.DataFrame(samples),kind=\"kde\")"
   ]
  },
  {
   "cell_type": "code",
   "execution_count": 148,
   "id": "d12dde83",
   "metadata": {},
   "outputs": [
    {
     "data": {
      "text/plain": [
       "(rain, sprinkler, cloud, wet grass)"
      ]
     },
     "execution_count": 148,
     "metadata": {},
     "output_type": "execute_result"
    }
   ],
   "source": [
    "net.varibles"
   ]
  },
  {
   "cell_type": "code",
   "execution_count": 185,
   "id": "c3744502",
   "metadata": {},
   "outputs": [
    {
     "data": {
      "text/plain": [
       "0.0466"
      ]
     },
     "execution_count": 185,
     "metadata": {},
     "output_type": "execute_result"
    }
   ],
   "source": [
    "np.mean(samples[\"cloud\"])"
   ]
  },
  {
   "cell_type": "code",
   "execution_count": 178,
   "id": "81086ccf",
   "metadata": {},
   "outputs": [
    {
     "ename": "KeyError",
     "evalue": "'rain'",
     "output_type": "error",
     "traceback": [
      "\u001b[0;31m---------------------------------------------------------------------------\u001b[0m",
      "\u001b[0;31mKeyError\u001b[0m                                  Traceback (most recent call last)",
      "\u001b[0;32m/tmp/ipykernel_8445/2034839916.py\u001b[0m in \u001b[0;36m<cell line: 1>\u001b[0;34m()\u001b[0m\n\u001b[0;32m----> 1\u001b[0;31m \u001b[0mnp\u001b[0m\u001b[0;34m.\u001b[0m\u001b[0mmean\u001b[0m\u001b[0;34m(\u001b[0m\u001b[0msamples\u001b[0m\u001b[0;34m[\u001b[0m\u001b[0;34m\"rain\"\u001b[0m\u001b[0;34m]\u001b[0m\u001b[0;34m)\u001b[0m\u001b[0;34m\u001b[0m\u001b[0;34m\u001b[0m\u001b[0m\n\u001b[0m",
      "\u001b[0;31mKeyError\u001b[0m: 'rain'"
     ]
    }
   ],
   "source": [
    "np.mean(samples[\"rain\"])"
   ]
  },
  {
   "cell_type": "code",
   "execution_count": null,
   "id": "425fe564",
   "metadata": {},
   "outputs": [],
   "source": [
    "a=np.array([[0.01,0.9],[0.9,0.99]])"
   ]
  },
  {
   "cell_type": "code",
   "execution_count": null,
   "id": "ff7e9bc5",
   "metadata": {},
   "outputs": [
    {
     "data": {
      "text/plain": [
       "0.5341"
      ]
     },
     "execution_count": 10,
     "metadata": {},
     "output_type": "execute_result"
    }
   ],
   "source": [
    "np.mean(samples[\"rain\"])"
   ]
  },
  {
   "cell_type": "code",
   "execution_count": null,
   "id": "22afc7e8",
   "metadata": {},
   "outputs": [],
   "source": [
    "a=np.zeros([10,10])"
   ]
  },
  {
   "cell_type": "code",
   "execution_count": null,
   "id": "78b842ec",
   "metadata": {},
   "outputs": [],
   "source": [
    "b=np.array([1,1])"
   ]
  },
  {
   "cell_type": "code",
   "execution_count": null,
   "id": "91d74137",
   "metadata": {},
   "outputs": [
    {
     "data": {
      "text/plain": [
       "array([[0., 0., 0., 0., 0., 0., 0., 0., 0., 0.],\n",
       "       [0., 0., 0., 0., 0., 0., 0., 0., 0., 0.]])"
      ]
     },
     "execution_count": 13,
     "metadata": {},
     "output_type": "execute_result"
    }
   ],
   "source": [
    "a[b]"
   ]
  },
  {
   "cell_type": "code",
   "execution_count": null,
   "id": "00dd2c95",
   "metadata": {},
   "outputs": [
    {
     "data": {
      "text/plain": [
       "0.0"
      ]
     },
     "execution_count": 14,
     "metadata": {},
     "output_type": "execute_result"
    }
   ],
   "source": [
    "a[b[0],b[1]]"
   ]
  },
  {
   "cell_type": "code",
   "execution_count": null,
   "id": "551f1480",
   "metadata": {},
   "outputs": [],
   "source": []
  }
 ],
 "metadata": {
  "kernelspec": {
   "display_name": "Python 3",
   "language": "python",
   "name": "python3"
  },
  "language_info": {
   "codemirror_mode": {
    "name": "ipython",
    "version": 3
   },
   "file_extension": ".py",
   "mimetype": "text/x-python",
   "name": "python",
   "nbconvert_exporter": "python",
   "pygments_lexer": "ipython3",
   "version": "3.10.6"
  },
  "vscode": {
   "interpreter": {
    "hash": "e7370f93d1d0cde622a1f8e1c04877d8463912d04d973331ad4851f04de6915a"
   }
  }
 },
 "nbformat": 4,
 "nbformat_minor": 5
}
